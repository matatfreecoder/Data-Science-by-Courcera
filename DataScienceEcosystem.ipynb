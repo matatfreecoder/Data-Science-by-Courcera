{
  "nbformat": 4,
  "nbformat_minor": 0,
  "metadata": {
    "colab": {
      "provenance": [],
      "authorship_tag": "ABX9TyN5XZcVbyA21Qzi5r67YxbT",
      "include_colab_link": true
    },
    "kernelspec": {
      "name": "python3",
      "display_name": "Python 3"
    },
    "language_info": {
      "name": "python"
    }
  },
  "cells": [
    {
      "cell_type": "markdown",
      "metadata": {
        "id": "view-in-github",
        "colab_type": "text"
      },
      "source": [
        "<a href=\"https://colab.research.google.com/github/matatfreecoder/Data-Science-by-Courcera/blob/main/DataScienceEcosystem.ipynb\" target=\"_parent\"><img src=\"https://colab.research.google.com/assets/colab-badge.svg\" alt=\"Open In Colab\"/></a>"
      ]
    },
    {
      "cell_type": "markdown",
      "source": [
        "# Data Science Tools and Ecosystem"
      ],
      "metadata": {
        "id": "WbRM62-ZJ0dz"
      }
    },
    {
      "cell_type": "markdown",
      "source": [
        "In this notebook, Data Science Tools and Ecosystem are summarized.\n"
      ],
      "metadata": {
        "id": "ZTVX2-N_K-Ih"
      }
    },
    {
      "cell_type": "markdown",
      "source": [
        "**Objectives:**\n",
        "- List popular languages for Data Science;\n",
        "- Discover open-source tools for Data Science;\n",
        "- Investigate Data Science Libraries."
      ],
      "metadata": {
        "id": "NrUXRiX2RHZv"
      }
    },
    {
      "cell_type": "markdown",
      "source": [
        "Some of the popular languages that Data Scientists use are:\n",
        "\n",
        "1. R\n",
        "2. Python\n",
        "3. Java\n",
        "4. Julia\n",
        "5. SQL\n",
        "6. Java\n",
        "7. C++\n",
        "\n",
        "\n",
        "\n"
      ],
      "metadata": {
        "id": "IHVkTAFALuxg"
      }
    },
    {
      "cell_type": "markdown",
      "source": [
        "Some of the commonly used libraries used by Data Scientists include:\n",
        "1. ggplot2\n",
        "2. Lattice\n",
        "3. Pandas\n",
        "4. PixieDust\n",
        "5. MLeap\n",
        "\n",
        "\n"
      ],
      "metadata": {
        "id": "tESM7F8-MnWS"
      }
    },
    {
      "cell_type": "markdown",
      "source": [
        "|Data Science Tools|\n",
        "|------------------|\n",
        "|Jupyter Lab|\n",
        "|RStudio|\n",
        "|MySQL|"
      ],
      "metadata": {
        "id": "AeACzdAcNqal"
      }
    },
    {
      "cell_type": "markdown",
      "source": [
        "### Below are a few examples of evaluating arithmetic expressions in Python\n",
        "\"+\" is used for addition,\n",
        "\"-\" for subtraction,\n",
        "\"*\" for multiplication,\n",
        "\"/\" for division,\n",
        "\"%\" for remainder.\n",
        "\n"
      ],
      "metadata": {
        "id": "kGB9i9jCPM1D"
      }
    },
    {
      "cell_type": "code",
      "source": [
        "# This a simple arithmetic expression to mutiply then add integers\n",
        "(3*4)+5"
      ],
      "metadata": {
        "colab": {
          "base_uri": "https://localhost:8080/"
        },
        "id": "P3MZYwXrP1W3",
        "outputId": "902e6033-0627-49ec-ee9c-91cb0ff55cf0"
      },
      "execution_count": null,
      "outputs": [
        {
          "output_type": "execute_result",
          "data": {
            "text/plain": [
              "17"
            ]
          },
          "metadata": {},
          "execution_count": 1
        }
      ]
    },
    {
      "cell_type": "code",
      "source": [
        "# This will convert 200 minutes to hours by diving by 60\n",
        "200/60"
      ],
      "metadata": {
        "colab": {
          "base_uri": "https://localhost:8080/"
        },
        "id": "AGLLXg_cQSls",
        "outputId": "5c23d87c-8ffd-4d7c-9dce-d833ff172f1c"
      },
      "execution_count": null,
      "outputs": [
        {
          "output_type": "execute_result",
          "data": {
            "text/plain": [
              "3.3333333333333335"
            ]
          },
          "metadata": {},
          "execution_count": 2
        }
      ]
    },
    {
      "cell_type": "markdown",
      "source": [
        "## Author\n",
        "Natalia Matat"
      ],
      "metadata": {
        "id": "mYP-SCFCSBKo"
      }
    }
  ]
}